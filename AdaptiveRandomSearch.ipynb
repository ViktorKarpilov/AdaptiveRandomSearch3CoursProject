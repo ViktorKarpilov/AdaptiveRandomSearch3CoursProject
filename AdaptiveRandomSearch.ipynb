{
  "nbformat": 4,
  "nbformat_minor": 0,
  "metadata": {
    "colab": {
      "name": "AdaptiveRandomSearch.ipynb",
      "provenance": [],
      "collapsed_sections": []
    },
    "kernelspec": {
      "name": "python3",
      "display_name": "Python 3"
    },
    "language_info": {
      "name": "python"
    }
  },
  "cells": [
    {
      "cell_type": "code",
      "metadata": {
        "id": "OrDVIS0TnnfE"
      },
      "source": [
        "def powFunction(x):\n",
        "  return (10*(x[0] - x[1])**2 + (x[0] - 1)**2)**4"
      ],
      "execution_count": 85,
      "outputs": []
    },
    {
      "cell_type": "code",
      "metadata": {
        "colab": {
          "base_uri": "https://localhost:8080/",
          "height": 0
        },
        "id": "S7hrxcFIIB4h",
        "outputId": "c78881d6-eb58-46f9-d98f-68e86a886936"
      },
      "source": [
        "powFunction([-2.22225999e-01, -3.78364743e-06])"
      ],
      "execution_count": 51,
      "outputs": [
        {
          "output_type": "execute_result",
          "data": {
            "text/plain": [
              "15.608870254574194"
            ]
          },
          "metadata": {
            "tags": []
          },
          "execution_count": 51
        }
      ]
    },
    {
      "cell_type": "code",
      "metadata": {
        "id": "87SUsCbJqfnC"
      },
      "source": [
        "import random\n",
        "import sys\n",
        "import numpy as np\n",
        "import sympy as sp\n",
        "numpy.set_printoptions(threshold=sys.maxsize)\n",
        "from scipy.optimize import minimize\n",
        "from sympy.matrices import Matrix\n",
        "import matplotlib.pyplot as plt"
      ],
      "execution_count": 243,
      "outputs": []
    },
    {
      "cell_type": "code",
      "metadata": {
        "id": "lPPHuazafygE"
      },
      "source": [
        "def isLeftLower(f,x,h):\n",
        "  if f(x + h) > f(x -h):\n",
        "    return True\n",
        "  return False"
      ],
      "execution_count": 6,
      "outputs": []
    },
    {
      "cell_type": "code",
      "metadata": {
        "id": "5pSIVReWgZMG"
      },
      "source": [
        "def findSectionEnd(f, x0, h, alpha):\n",
        "  safer = 0\n",
        "  hist = []\n",
        "  hist.append(alpha)\n",
        "  while safer<10000:\n",
        "    y0 = f(x0)\n",
        "    h = h*2\n",
        "    x0 = x0 + h*alpha\n",
        "    hist.append(alpha*2)\n",
        "    if y0<f(x0):\n",
        "      return x0, hist\n",
        "\n",
        "  print(\"Overflow error\")"
      ],
      "execution_count": 144,
      "outputs": []
    },
    {
      "cell_type": "code",
      "metadata": {
        "id": "zmeeBGWEdRdi"
      },
      "source": [
        "def sven(f, x0, h, alpha):\n",
        "  bufer = x0.copy()\n",
        "  if isLeftLower(f, x0, h):\n",
        "    return [[findSectionEnd(f, x0, h, -alpha)[0], bufer], findSectionEnd(f, x0, h, -alpha)[1]]\n",
        "  return [[bufer, findSectionEnd(f, x0, h, alpha)[0]], findSectionEnd(f, x0, h, alpha)[1]]"
      ],
      "execution_count": 145,
      "outputs": []
    },
    {
      "cell_type": "code",
      "metadata": {
        "id": "Bt80U7HbQ0pc"
      },
      "source": [
        "def golden_section(interval, x0, S, f, eps):\n",
        "    a, b = interval\n",
        "    x1_gold = a + 0.382*(b - a)\n",
        "    x2_gold = a + 0.618*(b - a)\n",
        "\n",
        "    fx1_gold = f(x1_gold)\n",
        "    fx2_gold = f(x2_gold)\n",
        "\n",
        "    while True:\n",
        "        if fx1_gold <= fx2_gold:\n",
        "            b = x2_gold\n",
        "            x2_gold = x1_gold\n",
        "            x1_gold = a + 0.382*(b - a)\n",
        "        else:\n",
        "            a = x1_gold\n",
        "            x1_gold = x2_gold\n",
        "            x2_gold = a + 0.618*(b - a)\n",
        "        if abs(norm(b - a)) <= eps:\n",
        "            if fx1_gold < fx2_gold:\n",
        "                answ = x1_gold\n",
        "            else:\n",
        "                answ = x2_gold\n",
        "            break\n",
        "        else:\n",
        "          fx1_gold = f(x1_gold)\n",
        "          fx2_gold = f(x2_gold)\n",
        "            \n",
        "    return answ"
      ],
      "execution_count": 235,
      "outputs": []
    },
    {
      "cell_type": "code",
      "metadata": {
        "id": "xlJX2lQaQ20W"
      },
      "source": [
        "def dsk_paul(x0, S, f, eps, lambdas):\n",
        "  x1_dsk, x2_dsk, x3_dsk = 0 ,lambdas[-2], lambdas[-1]\n",
        "  fx1_dsk, fx2_dsk, fx3_dsk = f(x0 + x1_dsk), f(x0 + x2_dsk), f(x0 + x3_dsk)\n",
        "  x1_dsk, x2_dsk, x3_dsk = x0 + x1_dsk ,x0 + x2_dsk, x0 + x3_dsk\n",
        "  deltax_dsk = abs(norm(x1_dsk - x2_dsk))\n",
        "    \n",
        "  x11, x12 = Matrix(x0) + lmbd*Matrix(S)\n",
        "  kvx = x2_dsk + (deltax_dsk * (fx2_dsk - fx3_dsk)) / (2*(fx1_dsk - 2*fx2_dsk + fx3_dsk))\n",
        "  print(x11.subs(lmbd, kvx))\n",
        "  fkvx = [f(x11.subs(lmbd, kvx), x12.subs(lmbd, kvx)])\n",
        "  while True:\n",
        "      if abs(fx2_dsk - fkvx) <= eps and abs(x2_dsk - kvx) <= eps:\n",
        "          break\n",
        "      else:\n",
        "          if fkvx < fx2_dsk:\n",
        "              if kvx > x2_dsk:\n",
        "                  x1_dsk, x2_dsk = x2_dsk, kvx\n",
        "                  fx1_dsk, fx2_dsk = fx2_dsk, fkvx\n",
        "              else:\n",
        "                  x2_dsk, x3_dsk = kvx, x2_dsk\n",
        "                  fx2_dsk, fx3_dsk = fkvx, fx2_dsk\n",
        "          else:\n",
        "              if kvx > x2_dsk:\n",
        "                  x3_dsk = kvx\n",
        "                  fx3_dsk = fkvx\n",
        "              else:\n",
        "                  x1_dsk = kvx\n",
        "                  fx1_dsk = fkvx\n",
        "          a1 = (fx2_dsk - fx1_dsk) / (x2_dsk - x1_dsk)\n",
        "          a2 = ((fx3_dsk-fx1_dsk)/(x3_dsk-x1_dsk) - (fx2_dsk-fx1_dsk)/(x2_dsk-x1_dsk)) / (x3_dsk - x2_dsk)\n",
        "          kvx = (x1_dsk + x2_dsk) / 2 - (a1/(2*a2))\n",
        "          fkvx = f([x11.subs(lmbd, kvx), x12.subs(lmbd, kvx)])\n",
        "    # res = minimize(f, x0, method='powell',\n",
        "    # options={'xtol': eps, 'disp': False})\n",
        "    # return(res.direc[-1])\n",
        "  return kvx"
      ],
      "execution_count": 177,
      "outputs": []
    },
    {
      "cell_type": "code",
      "metadata": {
        "id": "0LsS_WbhPbqp"
      },
      "source": [
        "def find_df(f, x, i, h):\n",
        "    return ( right(f, x, i, h) + left(f, x, i, h) ) / 2\n",
        "\n",
        "def right(f, x, i, h):\n",
        "    x_h = x.copy()\n",
        "    x_h[i] += h\n",
        "    return ( f(x_h) - f(x) ) / h\n",
        "def left(f, x, i, h):\n",
        "    x_h = x.copy()\n",
        "    x_h[i] -= h\n",
        "    return ( f(x) - f(x_h) ) / h"
      ],
      "execution_count": 11,
      "outputs": []
    },
    {
      "cell_type": "code",
      "metadata": {
        "id": "kUUAsB5Aadva"
      },
      "source": [
        "def norm(x):\n",
        "    return (x[0]**2 + x[1]**2)**0.5"
      ],
      "execution_count": 12,
      "outputs": []
    },
    {
      "cell_type": "code",
      "metadata": {
        "id": "a_tCxp1nN2sU"
      },
      "source": [
        "def findNear(x0, f, h_diff, alpha, eps_singleDim, searchAlgorythm):\n",
        "  dfx1 = find_df(f, x0, 0, h_diff)\n",
        "  dfx2 = find_df(f, x0, 1, h_diff)\n",
        "  grad = np.array([[dfx1], [dfx2]])\n",
        "  S0 = - grad\n",
        "  X = x0.copy()\n",
        "  S = S0.copy()\n",
        "\n",
        "  if searchAlgorythm == 'g':\n",
        "    interval = sven(f, X, h_diff, alpha)[0]\n",
        "    return golden_section(interval, X, S, f, eps_singleDim)\n",
        "  elif searchAlgorythm == 'd':\n",
        "    interval, lambdas = sven(f, X, h_diff, alpha)\n",
        "    return dsk_paul(x0 = X, s=S, f=f, eps = eps_singleDim, lambdas = lambdas)"
      ],
      "execution_count": 146,
      "outputs": []
    },
    {
      "cell_type": "code",
      "metadata": {
        "id": "xvLsTpmFpCjA"
      },
      "source": [
        "def randomStep(x,h):\n",
        "  res = np.array([float()] * 2)\n",
        "  y = random.uniform(x[1]-h[1],x[1]+h[1])\n",
        "  res[1] = y\n",
        "  res[0] = (1-(res[1]-x[1])**2)**0.5 + x[0]\n",
        "  return res"
      ],
      "execution_count": null,
      "outputs": []
    },
    {
      "cell_type": "code",
      "metadata": {
        "id": "6yiTwac_raNY"
      },
      "source": [
        "def adaptiveSearch(x, h, n, R, k, func, h_diff, alpha, eps_singleDim, searchAlgorythm, max_deep, useMaxDeep, constraint):\n",
        "  y0 = func(x)\n",
        "  ybof = y0\n",
        "  xbof = x\n",
        "  for i in range(n):\n",
        "    step = randomStep(x, h)\n",
        "    if y0 > func(step) and constraint(step):\n",
        "      dfx1 = find_df(func, x, 0, h_diff)\n",
        "      dfx2 = find_df(func, x, 1, h_diff)\n",
        "      grad = np.array([[dfx1], [dfx2]])\n",
        "      S0 = - grad\n",
        "      S = S0.copy()\n",
        "      y0 = func(step)\n",
        "      x = step*(1/k)\n",
        "      h =np.array(h)\n",
        "      h = h*k\n",
        "      i=0\n",
        "      max_deep = 10\n",
        "  h =np.array(h)\n",
        "  h = h*k\n",
        "  if max_deep==0:\n",
        "    return min(func(x), func(xbof))\n",
        "  elif ybof - func(step) < R:\n",
        "    return min(func(x), func(xbof))\n",
        "  x = findNear(x0=x, f=func, h_diff=h_diff, alpha=alpha, eps_singleDim=eps_singleDim, searchAlgorythm=searchAlgorythm)\n",
        "  max_deep -= 1\n",
        "  plotpoints.append(min(func(x), func(xbof)))\n",
        "  if func(x) > func(xbof) or not constraint(x):\n",
        "    x = xbof\n",
        "  return adaptiveSearch(x, h, n, R, k, func, h_diff, alpha, eps_singleDim, searchAlgorythm, max_deep, useMaxDeep=True, constraint=constraint)\n",
        "\n",
        "def constraint(x):\n",
        "  return True"
      ],
      "execution_count": 340,
      "outputs": []
    },
    {
      "cell_type": "code",
      "metadata": {
        "colab": {
          "base_uri": "https://localhost:8080/",
          "height": 293
        },
        "id": "YXj4Flzluk0h",
        "outputId": "1b7d66a4-797b-4a43-da56-de5460fca41d"
      },
      "source": [
        "plotpoints = []\n",
        "adaptiveSearch([-1.2,0],\n",
        "               h=[1e-2,1e-2],\n",
        "               n=1*10**5,\n",
        "               R=1e-3,\n",
        "               k=0.2,\n",
        "               func= powFunction,\n",
        "               h_diff = 1e-3,\n",
        "               alpha = 1e-3,\n",
        "               eps_singleDim = 0.0001,\n",
        "               searchAlgorythm='g',\n",
        "               max_deep=10)\n",
        "plt.plot(plotpoints)\n",
        "plt.show()"
      ],
      "execution_count": 257,
      "outputs": [
        {
          "output_type": "stream",
          "text": [
            "[0.05947026500475894, 0.05947026496179365, 0.05947026496115295, 0.059470264961151424, 0.059470264961151424, 0.059470264961151424, 0.059470264961151424, 0.059470264961151424, 0.059470264961151424, 0.059470264961151424]\n"
          ],
          "name": "stdout"
        },
        {
          "output_type": "display_data",
          "data": {
            "image/png": "[encoded data removed]",
            "text/plain": [
              "<Figure size 432x288 with 1 Axes>"
            ]
          },
          "metadata": {
            "tags": [],
            "needs_background": "light"
          }
        }
      ]
    },
    {
      "cell_type": "code",
      "metadata": {
        "colab": {
          "base_uri": "https://localhost:8080/",
          "height": 265
        },
        "id": "vMvldaHmjgrB",
        "outputId": "e6da656d-3775-4cc1-8fd6-3175e4d5c06e"
      },
      "source": [
        "plotpoints = []\n",
        "adaptiveSearch([-1.2,0], h=[1e-2,1e-2],\n",
        "               n=1*10**5, R=1e-3, k=0.2,\n",
        "               func= powFunction,h_diff = 1e-3,\n",
        "               alpha = 1e-3, eps_singleDim = 0.0001,\n",
        "               searchAlgorythm='d', max_deep=10)\n",
        "plt.plot(plotpoints)\n",
        "plt.show()"
      ],
      "execution_count": 293,
      "outputs": [
        {
          "output_type": "display_data",
          "data": {
            "image/png": "[encoded data removed]",
            "text/plain": [
              "<Figure size 432x288 with 1 Axes>"
            ]
          },
          "metadata": {
            "tags": [],
            "needs_background": "light"
          }
        }
      ]
    },
    {
      "cell_type": "code",
      "metadata": {
        "colab": {
          "base_uri": "https://localhost:8080/",
          "height": 846
        },
        "id": "HOX3f-7RjtQH",
        "outputId": "177d2c6b-9b98-4757-a533-bde0344283a7"
      },
      "source": [
        "for i in range(3):\n",
        "  plotpoints = []\n",
        "  print(1*10**(-i))\n",
        "  adaptiveSearch([-1.2,0],\n",
        "                 h=[1*10**2,1*10**2], \n",
        "                 n=1*10**3,\n",
        "                 R=1*10**-i,\n",
        "                 k=0.9, \n",
        "                 func= powFunction,\n",
        "                 h_diff = 1e-3, \n",
        "                 alpha = 1e-3, \n",
        "                 eps_singleDim = 1*10**-i,\n",
        "                 searchAlgorythm='d',\n",
        "                 max_deep=10)\n",
        "  plt.plot(plotpoints)\n",
        "  plt.show()"
      ],
      "execution_count": 294,
      "outputs": [
        {
          "output_type": "stream",
          "text": [
            "1\n"
          ],
          "name": "stdout"
        },
        {
          "output_type": "stream",
          "text": [
            "/usr/local/lib/python3.7/dist-packages/ipykernel_launcher.py:5: RuntimeWarning: invalid value encountered in double_scalars\n",
            "  \"\"\"\n"
          ],
          "name": "stderr"
        },
        {
          "output_type": "display_data",
          "data": {
            "image/png": "[encoded data removed]",
            "text/plain": [
              "<Figure size 432x288 with 1 Axes>"
            ]
          },
          "metadata": {
            "tags": [],
            "needs_background": "light"
          }
        },
        {
          "output_type": "stream",
          "text": [
            "0.1\n"
          ],
          "name": "stdout"
        },
        {
          "output_type": "display_data",
          "data": {
            "image/png": "[encoded data removed]",
            "text/plain": [
              "<Figure size 432x288 with 1 Axes>"
            ]
          },
          "metadata": {
            "tags": [],
            "needs_background": "light"
          }
        },
        {
          "output_type": "stream",
          "text": [
            "0.01\n"
          ],
          "name": "stdout"
        },
        {
          "output_type": "display_data",
          "data": {
            "image/png": "[encoded data removed]",
            "text/plain": [
              "<Figure size 432x288 with 1 Axes>"
            ]
          },
          "metadata": {
            "tags": [],
            "needs_background": "light"
          }
        }
      ]
    },
    {
      "cell_type": "code",
      "metadata": {
        "colab": {
          "base_uri": "https://localhost:8080/",
          "height": 761
        },
        "id": "kdfcC4WWkHw0",
        "outputId": "45355eb1-2e42-4bd6-fc78-1ea293612109"
      },
      "source": [
        "for i in range(3):\n",
        "  plotpoints = []\n",
        "  adaptiveSearch([-1.2,0], h=[1e-3,1e-3],\n",
        "                 n=1*10**5, R=1e-3,\n",
        "                 k=0.9, func= powFunction,h_diff = 1e-3,\n",
        "                 alpha = 1*10**-i, eps_singleDim = 1e-2,\n",
        "                 searchAlgorythm='d', max_deep=10)\n",
        "  plt.plot(plotpoints)\n",
        "  plt.show()"
      ],
      "execution_count": 291,
      "outputs": [
        {
          "output_type": "display_data",
          "data": {
            "image/png": "[encoded data removed]",
            "text/plain": [
              "<Figure size 432x288 with 1 Axes>"
            ]
          },
          "metadata": {
            "tags": [],
            "needs_background": "light"
          }
        },
        {
          "output_type": "display_data",
          "data": {
            "image/png": "[encoded data removed]",
            "text/plain": [
              "<Figure size 432x288 with 1 Axes>"
            ]
          },
          "metadata": {
            "tags": [],
            "needs_background": "light"
          }
        },
        {
          "output_type": "display_data",
          "data": {
            "image/png": "[encoded data removed]",
            "text/plain": [
              "<Figure size 432x288 with 1 Axes>"
            ]
          },
          "metadata": {
            "tags": [],
            "needs_background": "light"
          }
        }
      ]
    },
    {
      "cell_type": "code",
      "metadata": {
        "colab": {
          "base_uri": "https://localhost:8080/",
          "height": 761
        },
        "id": "bTS1xYyekUbl",
        "outputId": "00b6192a-4913-45b2-dfd9-cf66c9259485"
      },
      "source": [
        "for i in range(3):\n",
        "  plotpoints = []\n",
        "  adaptiveSearch([-1.2,0], h=[1*10**-i,1*10**-i],\n",
        "                 n=1*10**3, R=1e-8, k=0.9,\n",
        "                 func= powFunction,h_diff = 1e-3,\n",
        "                 alpha = 1e-3, eps_singleDim = 1e-2,\n",
        "                 searchAlgorythm='d', max_deep=10)\n",
        "  plt.plot(plotpoints)\n",
        "  plt.show()"
      ],
      "execution_count": 285,
      "outputs": [
        {
          "output_type": "display_data",
          "data": {
            "image/png": "[encoded data removed]",
            "text/plain": [
              "<Figure size 432x288 with 1 Axes>"
            ]
          },
          "metadata": {
            "tags": [],
            "needs_background": "light"
          }
        },
        {
          "output_type": "display_data",
          "data": {
            "image/png": "[encoded data removed]",
            "text/plain": [
              "<Figure size 432x288 with 1 Axes>"
            ]
          },
          "metadata": {
            "tags": [],
            "needs_background": "light"
          }
        },
        {
          "output_type": "display_data",
          "data": {
            "image/png": "[encoded data removed]",
            "text/plain": [
              "<Figure size 432x288 with 1 Axes>"
            ]
          },
          "metadata": {
            "tags": [],
            "needs_background": "light"
          }
        }
      ]
    },
    {
      "cell_type": "code",
      "metadata": {
        "colab": {
          "base_uri": "https://localhost:8080/",
          "height": 299
        },
        "id": "m0UsEHINjxKO",
        "outputId": "1d072154-1cdd-4f24-d7d8-db9f89d8a660"
      },
      "source": [
        "plotpoints = []\n",
        "adaptiveSearch([-1.2,0], h=[1*10**2,1*10**2],\n",
        "               n=1*10**3, R=1*10**-3, k=0.9,\n",
        "               func= powFunction,h_diff = 1e-3,\n",
        "               alpha = 1e-3, eps_singleDim = 1e-2,\n",
        "               searchAlgorythm='d', max_deep=10,\n",
        "               constraint=constraint, useMaxDeep=False)\n",
        "plt.plot(plotpoints)\n",
        "plt.show()"
      ],
      "execution_count": 343,
      "outputs": [
        {
          "output_type": "stream",
          "text": [
            "/usr/local/lib/python3.7/dist-packages/ipykernel_launcher.py:5: RuntimeWarning: invalid value encountered in double_scalars\n",
            "  \"\"\"\n"
          ],
          "name": "stderr"
        },
        {
          "output_type": "display_data",
          "data": {
            "image/png": "[encoded data removed]",
            "text/plain": [
              "<Figure size 432x288 with 1 Axes>"
            ]
          },
          "metadata": {
            "tags": [],
            "needs_background": "light"
          }
        }
      ]
    },
    {
      "cell_type": "code",
      "metadata": {
        "colab": {
          "base_uri": "https://localhost:8080/",
          "height": 806
        },
        "id": "kusJ1Q_Cl3hi",
        "outputId": "2b3e19a4-a355-4e27-841b-9636b018dca9"
      },
      "source": [
        "for i in range(3):\n",
        "  plotpoints = []\n",
        "  adaptiveSearch([-1.2,0], h=[1*10**2,1*10**2],\n",
        "                 n=1*10**3, R=1*10**-i,\n",
        "                 k=0.9, func= powFunction,h_diff = 1e-3,\n",
        "                 alpha = 1e-3, eps_singleDim = 1e-2,\n",
        "                 searchAlgorythm='d', max_deep=10)\n",
        "  plt.plot(plotpoints)\n",
        "  plt.show()"
      ],
      "execution_count": 282,
      "outputs": [
        {
          "output_type": "stream",
          "text": [
            "/usr/local/lib/python3.7/dist-packages/ipykernel_launcher.py:5: RuntimeWarning: invalid value encountered in double_scalars\n",
            "  \"\"\"\n"
          ],
          "name": "stderr"
        },
        {
          "output_type": "display_data",
          "data": {
            "image/png": "[encoded data removed]",
            "text/plain": [
              "<Figure size 432x288 with 1 Axes>"
            ]
          },
          "metadata": {
            "tags": [],
            "needs_background": "light"
          }
        },
        {
          "output_type": "display_data",
          "data": {
            "image/png": "[encoded data removed]",
            "text/plain": [
              "<Figure size 432x288 with 1 Axes>"
            ]
          },
          "metadata": {
            "tags": [],
            "needs_background": "light"
          }
        },
        {
          "output_type": "display_data",
          "data": {
            "image/png": "[encoded data removed]",
            "text/plain": [
              "<Figure size 432x288 with 1 Axes>"
            ]
          },
          "metadata": {
            "tags": [],
            "needs_background": "light"
          }
        }
      ]
    },
    {
      "cell_type": "code",
      "metadata": {
        "colab": {
          "base_uri": "https://localhost:8080/",
          "height": 303
        },
        "id": "gXBLTVSFpbMf",
        "outputId": "ccf48668-3beb-4c54-cbc8-89dd26ecfc82"
      },
      "source": [
        "def constraint(x):\n",
        "  return True\n",
        "\n",
        "plotpoints = []\n",
        "adaptiveSearch([-1.2,0], h=[1*10**2,1*10**2],\n",
        "               n=1*10**3, R=1*10**-3, k=0.9,\n",
        "               func= powFunction,h_diff = 1e-3, \n",
        "               alpha = 1e-3, eps_singleDim = 1e-2,\n",
        "               searchAlgorythm='d', max_deep=10,\n",
        "               constraint=constraint, useMaxDeep=True)\n",
        "plt.plot(plotpoints)\n",
        "plt.show()"
      ],
      "execution_count": 303,
      "outputs": [
        {
          "output_type": "stream",
          "text": [
            "/usr/local/lib/python3.7/dist-packages/ipykernel_launcher.py:5: RuntimeWarning: invalid value encountered in double_scalars\n",
            "  \"\"\"\n"
          ],
          "name": "stderr"
        },
        {
          "output_type": "display_data",
          "data": {
            "image/png": "[encoded data removed]",
            "text/plain": [
              "<Figure size 432x288 with 1 Axes>"
            ]
          },
          "metadata": {
            "tags": [],
            "needs_background": "light"
          }
        }
      ]
    },
    {
      "cell_type": "code",
      "metadata": {
        "colab": {
          "base_uri": "https://localhost:8080/",
          "height": 299
        },
        "id": "0dWX-o8Dp9JM",
        "outputId": "eef5268a-9317-45f9-d2c1-7c39634e6f51"
      },
      "source": [
        "def constraint(x):\n",
        "  return (norm(x-[0,0]) > 0.05)\n",
        "\n",
        "plotpoints = []\n",
        "adaptiveSearch([-1.2,0], h=[1*10**2,1*10**2],\n",
        "               n=1*10**3, R=1*10**-3, k=0.9,\n",
        "               func= powFunction,h_diff = 1e-3,\n",
        "               alpha = 1e-3, eps_singleDim = 1e-2,\n",
        "               searchAlgorythm='d', max_deep=10,\n",
        "               constraint=constraint, useMaxDeep=True)\n",
        "plt.plot(plotpoints)\n",
        "plt.show()"
      ],
      "execution_count": 309,
      "outputs": [
        {
          "output_type": "stream",
          "text": [
            "/usr/local/lib/python3.7/dist-packages/ipykernel_launcher.py:5: RuntimeWarning: invalid value encountered in double_scalars\n",
            "  \"\"\"\n"
          ],
          "name": "stderr"
        },
        {
          "output_type": "display_data",
          "data": {
            "image/png": "[encoded data removed]",
            "text/plain": [
              "<Figure size 432x288 with 1 Axes>"
            ]
          },
          "metadata": {
            "tags": [],
            "needs_background": "light"
          }
        }
      ]
    },
    {
      "cell_type": "code",
      "metadata": {
        "colab": {
          "base_uri": "https://localhost:8080/",
          "height": 299
        },
        "id": "XOeUfVGPsOBe",
        "outputId": "ed607947-4428-446c-e636-0653bf7043c6"
      },
      "source": [
        "def constraint(x):\n",
        "  return (x[0] + 2)**2 - x[1]**2 + 4 > 0\n",
        "\n",
        "plotpoints = []\n",
        "adaptiveSearch([-1.2,0],\n",
        "               h=[1*10**2,1*10**2],\n",
        "               n=1*10**3, R=1*10**-3, \n",
        "               k=0.9, func= powFunction,\n",
        "               h_diff = 1e-3, alpha = 1e-3,\n",
        "               eps_singleDim = 1e-2, searchAlgorythm='d',\n",
        "               max_deep=10, constraint=constraint,\n",
        "               useMaxDeep=True)\n",
        "plt.plot(plotpoints)\n",
        "plt.show()"
      ],
      "execution_count": 322,
      "outputs": [
        {
          "output_type": "stream",
          "text": [
            "/usr/local/lib/python3.7/dist-packages/ipykernel_launcher.py:5: RuntimeWarning: invalid value encountered in double_scalars\n",
            "  \"\"\"\n"
          ],
          "name": "stderr"
        },
        {
          "output_type": "display_data",
          "data": {
            "image/png": "[encoded data removed]",
            "text/plain": [
              "<Figure size 432x288 with 1 Axes>"
            ]
          },
          "metadata": {
            "tags": [],
            "needs_background": "light"
          }
        }
      ]
    },
    {
      "cell_type": "code",
      "metadata": {
        "colab": {
          "base_uri": "https://localhost:8080/",
          "height": 299
        },
        "id": "BezqBeklujRj",
        "outputId": "fa61958b-739b-462c-bd54-807028b10341"
      },
      "source": [
        "def constraint(x):\n",
        "  return (x[0] + 2)**2 - x[1]**2 + 4 > 0 and (x[0] + 2)**2 - x[1]**2 - 4 > 0\n",
        "\n",
        "plotpoints = []\n",
        "adaptiveSearch([-1.2,0], h=[1*10**2,1*10**2],\n",
        "               n=1*10**3, R=1*10**-3, k=0.9,\n",
        "               func= powFunction,h_diff = 1e-3,\n",
        "               alpha = 1e-3, eps_singleDim = 1e-2,\n",
        "               searchAlgorythm='d', max_deep=10,\n",
        "               constraint=constraint, useMaxDeep=True)\n",
        "plt.plot(plotpoints)\n",
        "plt.show()"
      ],
      "execution_count": 334,
      "outputs": [
        {
          "output_type": "stream",
          "text": [
            "/usr/local/lib/python3.7/dist-packages/ipykernel_launcher.py:5: RuntimeWarning: invalid value encountered in double_scalars\n",
            "  \"\"\"\n"
          ],
          "name": "stderr"
        },
        {
          "output_type": "display_data",
          "data": {
            "image/png": "[encoded data removed]",
            "text/plain": [
              "<Figure size 432x288 with 1 Axes>"
            ]
          },
          "metadata": {
            "tags": [],
            "needs_background": "light"
          }
        }
      ]
    },
    {
      "cell_type": "code",
      "metadata": {
        "colab": {
          "base_uri": "https://localhost:8080/",
          "height": 299
        },
        "id": "ZdBOog_qrF2B",
        "outputId": "6a4f7987-5095-4459-f90b-f88ee65894bd"
      },
      "source": [
        "def constraint(x):\n",
        "  return x[0] <1 and x[0] > -2  \n",
        "\n",
        "plotpoints = []\n",
        "adaptiveSearch([-1.2,0], h=[1*10**2,1*10**2],\n",
        "               n=1*10**3, R=1*10**-3, k=0.9,\n",
        "               func= powFunction,h_diff = 1e-3,\n",
        "               alpha = 1e-3, eps_singleDim = 1e-2,\n",
        "               searchAlgorythm='d', max_deep=10,\n",
        "               constraint=constraint, useMaxDeep=True)\n",
        "plt.plot(plotpoints)\n",
        "plt.show()"
      ],
      "execution_count": 336,
      "outputs": [
        {
          "output_type": "stream",
          "text": [
            "/usr/local/lib/python3.7/dist-packages/ipykernel_launcher.py:5: RuntimeWarning: invalid value encountered in double_scalars\n",
            "  \"\"\"\n"
          ],
          "name": "stderr"
        },
        {
          "output_type": "display_data",
          "data": {
            "image/png": "[encoded data removed]",
            "text/plain": [
              "<Figure size 432x288 with 1 Axes>"
            ]
          },
          "metadata": {
            "tags": [],
            "needs_background": "light"
          }
        }
      ]
    },
    {
      "cell_type": "code",
      "metadata": {
        "id": "x3PCJxuFvWWK"
      },
      "source": [
        ""
      ],
      "execution_count": null,
      "outputs": []
    }
  ]
}